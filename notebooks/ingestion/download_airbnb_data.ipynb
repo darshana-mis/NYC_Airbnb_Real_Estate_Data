{
 "cells": [
  {
   "cell_type": "code",
   "execution_count": 2,
   "id": "fcf4f415-c04f-4392-bdf2-3387ce939a3b",
   "metadata": {},
   "outputs": [
    {
     "name": "stdout",
     "output_type": "stream",
     "text": [
      "✅ Ingested & cleaned Airbnb data.\n"
     ]
    }
   ],
   "source": [
    "import pandas as pd\n",
    "\n",
    "df = pd.read_csv(r'D:\\Darshana\\Projects\\Real_Estate_Market_Data\\data\\raw\\new_york_listings_2024.csv')\n",
    "df.columns = df.columns.str.lower().str.replace(' ', '_')\n",
    "df.dropna(subset=['price', 'latitude', 'longitude'], inplace=True)\n",
    "df.to_csv(r'D:\\Darshana\\Projects\\Real_Estate_Market_Data\\data\\processed\\airbnb_cleaned.csv', index=False)\n",
    "\n",
    "print(\"✅ Ingested & cleaned Airbnb data.\")\n"
   ]
  },
  {
   "cell_type": "code",
   "execution_count": null,
   "id": "a7af33b8-5f64-41cd-9f3d-3d43d8c0cfcc",
   "metadata": {},
   "outputs": [],
   "source": []
  }
 ],
 "metadata": {
  "kernelspec": {
   "display_name": "Python 3 (ipykernel)",
   "language": "python",
   "name": "python3"
  },
  "language_info": {
   "codemirror_mode": {
    "name": "ipython",
    "version": 3
   },
   "file_extension": ".py",
   "mimetype": "text/x-python",
   "name": "python",
   "nbconvert_exporter": "python",
   "pygments_lexer": "ipython3",
   "version": "3.12.7"
  }
 },
 "nbformat": 4,
 "nbformat_minor": 5
}
