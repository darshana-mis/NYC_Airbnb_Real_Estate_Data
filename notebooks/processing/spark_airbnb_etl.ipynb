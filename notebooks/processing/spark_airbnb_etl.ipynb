{
 "cells": [
  {
   "cell_type": "markdown",
   "id": "f81c484c-4d7d-4891-a83e-dda554b0cdd1",
   "metadata": {},
   "source": [
    "# Airbnb NYC Real Estate Analysis - ETL Pipeline"
   ]
  },
  {
   "cell_type": "code",
   "execution_count": 3,
   "id": "5a6c84e4-d624-4d0d-82a3-26c61328262d",
   "metadata": {},
   "outputs": [
    {
     "name": "stdout",
     "output_type": "stream",
     "text": [
      "Requirement already satisfied: pyspark in c:\\users\\rokad\\anaconda3\\lib\\site-packages (4.0.0)\n",
      "Requirement already satisfied: findspark in c:\\users\\rokad\\anaconda3\\lib\\site-packages (2.0.1)\n",
      "Requirement already satisfied: py4j==0.10.9.9 in c:\\users\\rokad\\anaconda3\\lib\\site-packages (from pyspark) (0.10.9.9)\n",
      "Note: you may need to restart the kernel to use updated packages.\n"
     ]
    }
   ],
   "source": [
    "pip install pyspark findspark"
   ]
  },
  {
   "cell_type": "markdown",
   "id": "f6db0c94-3cb3-4f26-803d-f7420bfc03f1",
   "metadata": {},
   "source": [
    "# 1️⃣ Environment Setup (Spark + Hadoop Configurations for Windows)"
   ]
  },
  {
   "cell_type": "code",
   "execution_count": 1,
   "id": "aa113c6c-5ae4-4974-b11d-e72696d8d318",
   "metadata": {},
   "outputs": [
    {
     "name": "stdout",
     "output_type": "stream",
     "text": [
      "✅ SparkSession started successfully!\n"
     ]
    }
   ],
   "source": [
    "import os\n",
    "import findspark\n",
    "\n",
    "# Set Hadoop path first\n",
    "os.environ['HADOOP_HOME'] = r'C:\\Program Files\\hadoop\\hadoop-3.2.2'\n",
    "os.environ['PATH'] += os.pathsep + r'C:\\Program Files\\hadoop\\hadoop-3.2.2\\bin'\n",
    "\n",
    "# Initialize Spark\n",
    "findspark.init()\n",
    "\n",
    "from pyspark.sql import SparkSession\n",
    "\n",
    "spark = SparkSession.builder \\\n",
    "    .appName(\"AirbnbETL\") \\\n",
    "    .config(\"spark.driver.host\", \"127.0.0.1\") \\\n",
    "    .config(\"spark.driver.bindAddress\", \"127.0.0.1\") \\\n",
    "    .getOrCreate()\n",
    "\n",
    "print(\"✅ SparkSession started successfully!\")\n"
   ]
  },
  {
   "cell_type": "markdown",
   "id": "f90c2f89-0301-4115-bb1c-d1e89fb5c207",
   "metadata": {},
   "source": [
    "# 2️⃣ Load Raw Airbnb CSV Data"
   ]
  },
  {
   "cell_type": "code",
   "execution_count": 2,
   "id": "ebb6b330-6d12-49c8-9de4-3cae7ba787fd",
   "metadata": {},
   "outputs": [
    {
     "name": "stdout",
     "output_type": "stream",
     "text": [
      "+------------------+--------------------+---------+------------------+-------------------+------------------+-----------------+------------------+---------------+-----+--------------+-----------------+-----------+-----------------+------------------------------+----------------+---------------------+----------+------+--------+----+-------------+\n",
      "|                id|                name|  host_id|         host_name|neighbourhood_group|     neighbourhood|         latitude|         longitude|      room_type|price|minimum_nights|number_of_reviews|last_review|reviews_per_month|calculated_host_listings_count|availability_365|number_of_reviews_ltm|   license|rating|bedrooms|beds|        baths|\n",
      "+------------------+--------------------+---------+------------------+-------------------+------------------+-----------------+------------------+---------------+-----+--------------+-----------------+-----------+-----------------+------------------------------+----------------+---------------------+----------+------+--------+----+-------------+\n",
      "|           1312228|Rental unit in Br...|  7130382|            Walter|           Brooklyn|      Clinton Hill|         40.68371|         -73.96461|   Private room| 55.0|            30|                3| 2015-12-20|             0.03|                             1|               0|                    0|No License|  5.0 |       1|   1|Not specified|\n",
      "|          45277537|Rental unit in Ne...| 51501835|          Jeniffer|          Manhattan|    Hell's Kitchen|         40.76661|          -73.9881|Entire home/apt|144.0|            30|                9| 2023-05-01|             0.24|                           139|             364|                    2|No License| 4.67 |       2|   1|            1|\n",
      "|971353993633883038|Rental unit in Ne...|528871354|            Joshua|          Manhattan|           Chelsea|40.75076357257111|-73.99460514502687|Entire home/apt|187.0|             2|                6| 2023-12-18|             1.67|                             1|             343|                    6|    Exempt| 4.17 |       1|   2|            1|\n",
      "|           3857863|Rental unit in Ne...| 19902271|John And Catherine|          Manhattan|Washington Heights|          40.8356|          -73.9425|   Private room|120.0|            30|              156| 2023-09-17|             1.38|                             2|             363|                   12|No License| 4.64 |       1|   1|            1|\n",
      "|          40896611|Condo in New York...| 61391963|    Stay With Vibe|          Manhattan|       Murray Hill|         40.75112|          -73.9786|Entire home/apt| 85.0|            30|               11| 2023-12-03|             0.24|                           133|             335|                    3|No License| 4.91 |  Studio|   1|            1|\n",
      "+------------------+--------------------+---------+------------------+-------------------+------------------+-----------------+------------------+---------------+-----+--------------+-----------------+-----------+-----------------+------------------------------+----------------+---------------------+----------+------+--------+----+-------------+\n",
      "only showing top 5 rows\n"
     ]
    }
   ],
   "source": [
    "df = spark.read.csv(r'D:\\Darshana\\Projects\\Real_Estate_Market_Data\\data\\processed\\airbnb_cleaned.csv', header=True, inferSchema=True)\n",
    "df.show(5)"
   ]
  },
  {
   "cell_type": "markdown",
   "id": "7809428b-1569-4a8f-885d-39f8d4099e16",
   "metadata": {},
   "source": [
    "# 3️⃣ Data Cleaning and Transformation"
   ]
  },
  {
   "cell_type": "code",
   "execution_count": 3,
   "id": "3ee9e154-3cd2-4ee3-963d-30721ade3b88",
   "metadata": {},
   "outputs": [
    {
     "name": "stdout",
     "output_type": "stream",
     "text": [
      "+------------------+--------------------+---------+------------------+-------------------+------------------+-----------------+------------------+---------------+-----+--------------+-----------------+-----------+-----------------+------------------------------+----------------+---------------------+----------+------+--------+----+-------------+---------------+------------+\n",
      "|                id|                name|  host_id|         host_name|neighbourhood_group|     neighbourhood|         latitude|         longitude|      room_type|price|minimum_nights|number_of_reviews|last_review|reviews_per_month|calculated_host_listings_count|availability_365|number_of_reviews_ltm|   license|rating|bedrooms|beds|        baths|price_per_night|date_scraped|\n",
      "+------------------+--------------------+---------+------------------+-------------------+------------------+-----------------+------------------+---------------+-----+--------------+-----------------+-----------+-----------------+------------------------------+----------------+---------------------+----------+------+--------+----+-------------+---------------+------------+\n",
      "|           1312228|Rental unit in Br...|  7130382|            Walter|           Brooklyn|      Clinton Hill|         40.68371|         -73.96461|   Private room| 55.0|            30|                3| 2015-12-20|             0.03|                             1|               0|                    0|No License|  5.0 |       1|   1|Not specified|           55.0|  2015-12-20|\n",
      "|          45277537|Rental unit in Ne...| 51501835|          Jeniffer|          Manhattan|    Hell's Kitchen|         40.76661|          -73.9881|Entire home/apt|144.0|            30|                9| 2023-05-01|             0.24|                           139|             364|                    2|No License| 4.67 |       2|   1|            1|          144.0|  2023-05-01|\n",
      "|971353993633883038|Rental unit in Ne...|528871354|            Joshua|          Manhattan|           Chelsea|40.75076357257111|-73.99460514502687|Entire home/apt|187.0|             2|                6| 2023-12-18|             1.67|                             1|             343|                    6|    Exempt| 4.17 |       1|   2|            1|          187.0|  2023-12-18|\n",
      "|           3857863|Rental unit in Ne...| 19902271|John And Catherine|          Manhattan|Washington Heights|          40.8356|          -73.9425|   Private room|120.0|            30|              156| 2023-09-17|             1.38|                             2|             363|                   12|No License| 4.64 |       1|   1|            1|          120.0|  2023-09-17|\n",
      "|          40896611|Condo in New York...| 61391963|    Stay With Vibe|          Manhattan|       Murray Hill|         40.75112|          -73.9786|Entire home/apt| 85.0|            30|               11| 2023-12-03|             0.24|                           133|             335|                    3|No License| 4.91 |  Studio|   1|            1|           85.0|  2023-12-03|\n",
      "+------------------+--------------------+---------+------------------+-------------------+------------------+-----------------+------------------+---------------+-----+--------------+-----------------+-----------+-----------------+------------------------------+----------------+---------------------+----------+------+--------+----+-------------+---------------+------------+\n",
      "only showing top 5 rows\n"
     ]
    }
   ],
   "source": [
    "# STEP 3: Apply transformations\n",
    "\n",
    "from pyspark.sql.functions import col, regexp_replace, to_date\n",
    "\n",
    "# Clean price column: remove $ and , and cast to double\n",
    "df = df.withColumn(\n",
    "    'price',\n",
    "    regexp_replace(col('price'), r'[\\$,]', '').cast('double')\n",
    ")\n",
    "\n",
    "# Create price_per_night (optional but cleaner for later)\n",
    "df = df.withColumn('price_per_night', col('price'))\n",
    "\n",
    "# Convert last_review column to date\n",
    "df = df.withColumn('date_scraped', to_date(col('last_review'), 'yyyy-MM-dd'))\n",
    "\n",
    "# Drop rows where price or lat/lon are missing\n",
    "df = df.na.drop(subset=['price_per_night', 'latitude', 'longitude'])\n",
    "\n",
    "# Check result\n",
    "df.show(5)\n"
   ]
  },
  {
   "cell_type": "markdown",
   "id": "ab9c6cd7-82e7-4c2e-9e28-e0df3fce0a53",
   "metadata": {},
   "source": [
    "# 4️⃣ Save Processed Data to Parquet Format (Optimized Storage)"
   ]
  },
  {
   "cell_type": "code",
   "execution_count": 4,
   "id": "5c390991-062f-48aa-b688-3bce1c45a401",
   "metadata": {},
   "outputs": [
    {
     "name": "stdout",
     "output_type": "stream",
     "text": [
      "✅ Airbnb ETL processing complete and saved to parquet.\n"
     ]
    }
   ],
   "source": [
    "# STEP 4: Save processed data to parquet (for dashboard consumption)\n",
    "\n",
    "output_path = r\"D:\\Darshana\\Projects\\Real_Estate_Market_Data\\data\\processed\\airbnb.parquet\"\n",
    "\n",
    "df.write.mode('overwrite').parquet(output_path)\n",
    "\n",
    "print(\"✅ Airbnb ETL processing complete and saved to parquet.\")\n"
   ]
  },
  {
   "cell_type": "code",
   "execution_count": null,
   "id": "309ab3aa-7828-4acf-b0a3-ae5e907b9c7a",
   "metadata": {},
   "outputs": [],
   "source": []
  }
 ],
 "metadata": {
  "kernelspec": {
   "display_name": "Python 3 (ipykernel)",
   "language": "python",
   "name": "python3"
  },
  "language_info": {
   "codemirror_mode": {
    "name": "ipython",
    "version": 3
   },
   "file_extension": ".py",
   "mimetype": "text/x-python",
   "name": "python",
   "nbconvert_exporter": "python",
   "pygments_lexer": "ipython3",
   "version": "3.12.7"
  }
 },
 "nbformat": 4,
 "nbformat_minor": 5
}
