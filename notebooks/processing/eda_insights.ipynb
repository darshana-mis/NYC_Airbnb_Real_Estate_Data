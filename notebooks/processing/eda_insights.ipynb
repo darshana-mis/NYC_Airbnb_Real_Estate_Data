{
 "cells": [
  {
   "cell_type": "markdown",
   "id": "dad30e79-6e09-426b-87fb-6ab27e98c0e9",
   "metadata": {},
   "source": [
    "# Airbnb NYC Real Estate Analysis - Exploratory Data Analysis"
   ]
  },
  {
   "cell_type": "code",
   "execution_count": null,
   "id": "d667aef5-0d79-4043-9ae4-17e5e040a58f",
   "metadata": {},
   "outputs": [],
   "source": [
    "pip install pyspark findspark"
   ]
  },
  {
   "cell_type": "markdown",
   "id": "8f57b472-507a-44be-b048-3241b869a577",
   "metadata": {},
   "source": [
    "# 1️⃣ Environment Setup (Spark + Hadoop for Windows)"
   ]
  },
  {
   "cell_type": "code",
   "execution_count": 1,
   "id": "849bee05-3b51-409a-a8b3-90f3495598b9",
   "metadata": {},
   "outputs": [
    {
     "name": "stdout",
     "output_type": "stream",
     "text": [
      "✅ Spark Session Started Successfully\n"
     ]
    }
   ],
   "source": [
    "import os\n",
    "import findspark\n",
    "\n",
    "# Set Hadoop path (make sure it's correct)\n",
    "os.environ['HADOOP_HOME'] = r'C:\\Program Files\\hadoop\\hadoop-3.2.2'\n",
    "os.environ['PATH'] += os.pathsep + r'C:\\Program Files\\hadoop\\hadoop-3.2.2\\bin'\n",
    "\n",
    "# Initialize findspark\n",
    "findspark.init()\n",
    "\n",
    "# Start Spark Session\n",
    "from pyspark.sql import SparkSession\n",
    "\n",
    "spark = SparkSession.builder \\\n",
    "    .appName(\"AirbnbAnalysis\") \\\n",
    "    .config(\"spark.driver.host\", \"127.0.0.1\") \\\n",
    "    .config(\"spark.driver.bindAddress\", \"127.0.0.1\") \\\n",
    "    .getOrCreate()\n",
    "\n",
    "print(\"✅ Spark Session Started Successfully\")\n"
   ]
  },
  {
   "cell_type": "markdown",
   "id": "ebfa372f-fbf3-4779-8d4f-5a0b9a62452b",
   "metadata": {},
   "source": [
    "# 2️⃣ Load Processed Parquet Data"
   ]
  },
  {
   "cell_type": "code",
   "execution_count": 2,
   "id": "e933aa2d-50b2-4935-a6df-659f63d4110e",
   "metadata": {},
   "outputs": [
    {
     "name": "stdout",
     "output_type": "stream",
     "text": [
      "root\n",
      " |-- id: long (nullable = true)\n",
      " |-- name: string (nullable = true)\n",
      " |-- host_id: integer (nullable = true)\n",
      " |-- host_name: string (nullable = true)\n",
      " |-- neighbourhood_group: string (nullable = true)\n",
      " |-- neighbourhood: string (nullable = true)\n",
      " |-- latitude: double (nullable = true)\n",
      " |-- longitude: double (nullable = true)\n",
      " |-- room_type: string (nullable = true)\n",
      " |-- price: double (nullable = true)\n",
      " |-- minimum_nights: integer (nullable = true)\n",
      " |-- number_of_reviews: integer (nullable = true)\n",
      " |-- last_review: date (nullable = true)\n",
      " |-- reviews_per_month: double (nullable = true)\n",
      " |-- calculated_host_listings_count: integer (nullable = true)\n",
      " |-- availability_365: integer (nullable = true)\n",
      " |-- number_of_reviews_ltm: integer (nullable = true)\n",
      " |-- license: string (nullable = true)\n",
      " |-- rating: string (nullable = true)\n",
      " |-- bedrooms: string (nullable = true)\n",
      " |-- beds: integer (nullable = true)\n",
      " |-- baths: string (nullable = true)\n",
      " |-- price_per_night: double (nullable = true)\n",
      " |-- date_scraped: date (nullable = true)\n",
      "\n",
      "+------------------+--------------------+---------+------------------+-------------------+------------------+-----------------+------------------+---------------+-----+--------------+-----------------+-----------+-----------------+------------------------------+----------------+---------------------+----------+------+--------+----+-------------+---------------+------------+\n",
      "|                id|                name|  host_id|         host_name|neighbourhood_group|     neighbourhood|         latitude|         longitude|      room_type|price|minimum_nights|number_of_reviews|last_review|reviews_per_month|calculated_host_listings_count|availability_365|number_of_reviews_ltm|   license|rating|bedrooms|beds|        baths|price_per_night|date_scraped|\n",
      "+------------------+--------------------+---------+------------------+-------------------+------------------+-----------------+------------------+---------------+-----+--------------+-----------------+-----------+-----------------+------------------------------+----------------+---------------------+----------+------+--------+----+-------------+---------------+------------+\n",
      "|           1312228|Rental unit in Br...|  7130382|            Walter|           Brooklyn|      Clinton Hill|         40.68371|         -73.96461|   Private room| 55.0|            30|                3| 2015-12-20|             0.03|                             1|               0|                    0|No License|  5.0 |       1|   1|Not specified|           55.0|  2015-12-20|\n",
      "|          45277537|Rental unit in Ne...| 51501835|          Jeniffer|          Manhattan|    Hell's Kitchen|         40.76661|          -73.9881|Entire home/apt|144.0|            30|                9| 2023-05-01|             0.24|                           139|             364|                    2|No License| 4.67 |       2|   1|            1|          144.0|  2023-05-01|\n",
      "|971353993633883038|Rental unit in Ne...|528871354|            Joshua|          Manhattan|           Chelsea|40.75076357257111|-73.99460514502687|Entire home/apt|187.0|             2|                6| 2023-12-18|             1.67|                             1|             343|                    6|    Exempt| 4.17 |       1|   2|            1|          187.0|  2023-12-18|\n",
      "|           3857863|Rental unit in Ne...| 19902271|John And Catherine|          Manhattan|Washington Heights|          40.8356|          -73.9425|   Private room|120.0|            30|              156| 2023-09-17|             1.38|                             2|             363|                   12|No License| 4.64 |       1|   1|            1|          120.0|  2023-09-17|\n",
      "|          40896611|Condo in New York...| 61391963|    Stay With Vibe|          Manhattan|       Murray Hill|         40.75112|          -73.9786|Entire home/apt| 85.0|            30|               11| 2023-12-03|             0.24|                           133|             335|                    3|No License| 4.91 |  Studio|   1|            1|           85.0|  2023-12-03|\n",
      "+------------------+--------------------+---------+------------------+-------------------+------------------+-----------------+------------------+---------------+-----+--------------+-----------------+-----------+-----------------+------------------------------+----------------+---------------------+----------+------+--------+----+-------------+---------------+------------+\n",
      "only showing top 5 rows\n"
     ]
    }
   ],
   "source": [
    "# Path to processed parquet file (same location where you saved parquet from previous notebook)\n",
    "parquet_path = r\"D:\\Darshana\\Projects\\Real_Estate_Market_Data\\data\\processed\\airbnb.parquet\"\n",
    "\n",
    "df = spark.read.parquet(parquet_path)\n",
    "\n",
    "# Show schema\n",
    "df.printSchema()\n",
    "\n",
    "# Preview sample rows\n",
    "df.show(5)\n"
   ]
  },
  {
   "cell_type": "markdown",
   "id": "3c8b09b0-3565-4d36-80e8-c37befb6c81a",
   "metadata": {},
   "source": [
    "# 3️⃣ Register Temp Table for Spark SQL Queries"
   ]
  },
  {
   "cell_type": "code",
   "execution_count": 3,
   "id": "8dd0fa33-ddbf-4a92-9b7d-24cf086c99ef",
   "metadata": {},
   "outputs": [],
   "source": [
    "# Create SparkSQL view for querying\n",
    "df.createOrReplaceTempView(\"airbnb\")"
   ]
  },
  {
   "cell_type": "markdown",
   "id": "2d8f21a8-3e5e-4d83-89a4-488748f067e8",
   "metadata": {},
   "source": [
    "# 4️⃣ Exploratory Data Analysis Using SparkSQL"
   ]
  },
  {
   "cell_type": "code",
   "execution_count": 4,
   "id": "68d520d1-5ff6-426b-915e-d394fba109b4",
   "metadata": {},
   "outputs": [
    {
     "name": "stdout",
     "output_type": "stream",
     "text": [
      "+--------------+\n",
      "|total_listings|\n",
      "+--------------+\n",
      "|         20758|\n",
      "+--------------+\n",
      "\n"
     ]
    }
   ],
   "source": [
    "# Total Listings\n",
    "spark.sql(\"SELECT COUNT(*) as total_listings FROM airbnb\").show()"
   ]
  },
  {
   "cell_type": "code",
   "execution_count": 5,
   "id": "e844e32c-34c1-4f5f-8022-6da901884814",
   "metadata": {},
   "outputs": [
    {
     "name": "stdout",
     "output_type": "stream",
     "text": [
      "+------------------+\n",
      "|         avg_price|\n",
      "+------------------+\n",
      "|187.77661624433952|\n",
      "+------------------+\n",
      "\n"
     ]
    }
   ],
   "source": [
    "# Average Price Per Night\n",
    "spark.sql(\"SELECT AVG(price_per_night) as avg_price FROM airbnb\").show()"
   ]
  },
  {
   "cell_type": "code",
   "execution_count": 6,
   "id": "de969e0c-29f7-46f9-90bb-068f686146eb",
   "metadata": {},
   "outputs": [
    {
     "name": "stdout",
     "output_type": "stream",
     "text": [
      "+---------------+--------------+---------+\n",
      "|      room_type|total_listings|avg_price|\n",
      "+---------------+--------------+---------+\n",
      "|Entire home/apt|         11549|   223.16|\n",
      "|   Private room|          8804|   139.52|\n",
      "|    Shared room|           293|   156.29|\n",
      "|     Hotel room|           112|   415.05|\n",
      "+---------------+--------------+---------+\n",
      "\n"
     ]
    }
   ],
   "source": [
    "# Listings and Price by Room Type\n",
    "spark.sql(\"\"\"\n",
    "SELECT room_type, COUNT(*) as total_listings, ROUND(AVG(price_per_night), 2) as avg_price\n",
    "FROM airbnb\n",
    "GROUP BY room_type\n",
    "ORDER BY total_listings DESC\n",
    "\"\"\").show()"
   ]
  },
  {
   "cell_type": "code",
   "execution_count": 7,
   "id": "b04c5f70-fc91-4e6f-8ccc-4be8e0bbdb0c",
   "metadata": {},
   "outputs": [
    {
     "name": "stdout",
     "output_type": "stream",
     "text": [
      "+------------------+--------------+---------+\n",
      "|     neighbourhood|total_listings|avg_price|\n",
      "+------------------+--------------+---------+\n",
      "|           Tribeca|            71|   455.41|\n",
      "|          Longwood|            31|   424.23|\n",
      "|      Civic Center|             8|   393.75|\n",
      "|              SoHo|           136|   363.51|\n",
      "|              NoHo|             9|   351.33|\n",
      "|  Theater District|           140|   347.26|\n",
      "|      West Village|           211|   341.79|\n",
      "| Flatiron District|            39|   332.62|\n",
      "|Financial District|           204|   314.87|\n",
      "|             DUMBO|            17|   312.88|\n",
      "+------------------+--------------+---------+\n",
      "\n"
     ]
    }
   ],
   "source": [
    "# Top Neighborhoods by Average Price\n",
    "spark.sql(\"\"\"\n",
    "SELECT neighbourhood, COUNT(*) as total_listings, ROUND(AVG(price_per_night), 2) as avg_price\n",
    "FROM airbnb\n",
    "GROUP BY neighbourhood\n",
    "ORDER BY avg_price DESC\n",
    "LIMIT 10\n",
    "\"\"\").show()\n"
   ]
  },
  {
   "cell_type": "code",
   "execution_count": 8,
   "id": "0c365371-6061-401e-b8f9-a9b57a8b42d6",
   "metadata": {},
   "outputs": [
    {
     "name": "stdout",
     "output_type": "stream",
     "text": [
      "+------------+--------------+\n",
      "|price_bucket|total_listings|\n",
      "+------------+--------------+\n",
      "|    $100-200|          7994|\n",
      "|     $50-100|          6306|\n",
      "|       >$200|          4765|\n",
      "|        <$50|          1693|\n",
      "+------------+--------------+\n",
      "\n"
     ]
    }
   ],
   "source": [
    "# Price Bucketing Distribution\n",
    "spark.sql(\"\"\"\n",
    "SELECT \n",
    "  CASE \n",
    "    WHEN price_per_night < 50 THEN '<$50'\n",
    "    WHEN price_per_night BETWEEN 50 AND 100 THEN '$50-100'\n",
    "    WHEN price_per_night BETWEEN 100 AND 200 THEN '$100-200'\n",
    "    ELSE '>$200' \n",
    "  END as price_bucket,\n",
    "  COUNT(*) as total_listings\n",
    "FROM airbnb\n",
    "GROUP BY price_bucket\n",
    "ORDER BY total_listings DESC\n",
    "\"\"\").show()\n"
   ]
  },
  {
   "cell_type": "code",
   "execution_count": 10,
   "id": "93190ec7-886e-408d-99d0-08308f9bb622",
   "metadata": {},
   "outputs": [
    {
     "name": "stdout",
     "output_type": "stream",
     "text": [
      "+-----------------+---------+\n",
      "|number_of_reviews|avg_price|\n",
      "+-----------------+---------+\n",
      "|             1865|    144.0|\n",
      "|             1618|    163.0|\n",
      "|             1574|    148.0|\n",
      "|             1201|    177.0|\n",
      "|             1188|    161.0|\n",
      "|             1139|    106.0|\n",
      "|             1128|    134.0|\n",
      "|             1048|     88.0|\n",
      "|              991|    185.0|\n",
      "|              787|     71.0|\n",
      "|              761|    185.0|\n",
      "|              745|    255.0|\n",
      "|              717|    145.0|\n",
      "|              707|     95.0|\n",
      "|              705|     96.0|\n",
      "|              697|     86.0|\n",
      "|              679|     44.0|\n",
      "|              664|     72.0|\n",
      "|              660|     43.0|\n",
      "|              647|     63.0|\n",
      "+-----------------+---------+\n",
      "\n",
      "✅ EDA Complete — Data ready for visualization phase.\n"
     ]
    }
   ],
   "source": [
    "# Reviews vs Price Analysis\n",
    "spark.sql(\"\"\"\n",
    "SELECT \n",
    "    number_of_reviews, \n",
    "    ROUND(AVG(price_per_night), 2) as avg_price\n",
    "FROM airbnb\n",
    "GROUP BY number_of_reviews\n",
    "ORDER BY number_of_reviews DESC\n",
    "LIMIT 20\n",
    "\"\"\").show()\n",
    "\n",
    "print(\"✅ EDA Complete — Data ready for visualization phase.\")"
   ]
  },
  {
   "cell_type": "code",
   "execution_count": null,
   "id": "c50a7cb3-6cd1-4b38-99a5-499ea5166bb7",
   "metadata": {},
   "outputs": [],
   "source": []
  }
 ],
 "metadata": {
  "kernelspec": {
   "display_name": "Python 3 (ipykernel)",
   "language": "python",
   "name": "python3"
  },
  "language_info": {
   "codemirror_mode": {
    "name": "ipython",
    "version": 3
   },
   "file_extension": ".py",
   "mimetype": "text/x-python",
   "name": "python",
   "nbconvert_exporter": "python",
   "pygments_lexer": "ipython3",
   "version": "3.12.7"
  }
 },
 "nbformat": 4,
 "nbformat_minor": 5
}
